{
 "cells": [
  {
   "cell_type": "markdown",
   "metadata": {},
   "source": [
    "### Import Libraries"
   ]
  },
  {
   "cell_type": "code",
   "execution_count": 3,
   "metadata": {},
   "outputs": [],
   "source": [
    "import pandas as pd\n",
    "import numpy as np\n",
    "from scipy.stats import norm\n",
    "from scipy import stats"
   ]
  },
  {
   "cell_type": "code",
   "execution_count": 4,
   "metadata": {},
   "outputs": [],
   "source": [
    "import matplotlib.pyplot as plt\n",
    "import seaborn as sns\n",
    "import warnings\n",
    "warnings.filterwarnings('ignore')\n",
    "%matplotlib inline"
   ]
  },
  {
   "cell_type": "code",
   "execution_count": 83,
   "metadata": {},
   "outputs": [
    {
     "name": "stderr",
     "output_type": "stream",
     "text": [
      "C:\\Users\\xerox.MACBOOK10\\Anaconda3\\lib\\site-packages\\sklearn\\ensemble\\weight_boosting.py:29: DeprecationWarning: numpy.core.umath_tests is an internal NumPy module and should not be imported. It will be removed in a future NumPy release.\n",
      "  from numpy.core.umath_tests import inner1d\n"
     ]
    }
   ],
   "source": [
    "from sklearn import preprocessing\n",
    "from sklearn.preprocessing import OneHotEncoder\n",
    "from sklearn.model_selection import StratifiedShuffleSplit\n",
    "from sklearn.model_selection import train_test_split\n",
    "from sklearn.linear_model import LinearRegression\n",
    "from sklearn.metrics import mean_squared_error\n",
    "from sklearn.ensemble import GradientBoostingRegressor"
   ]
  },
  {
   "cell_type": "code",
   "execution_count": 38,
   "metadata": {},
   "outputs": [],
   "source": [
    "pd.set_option('display.max_columns', 100)\n",
    "pd.set_option('display.max_rows', 100)\n",
    "pd.options.display.max_rows = 100"
   ]
  },
  {
   "cell_type": "code",
   "execution_count": 171,
   "metadata": {},
   "outputs": [],
   "source": [
    "# Functions\n",
    "def OneHotEncoder(df, colList):\n",
    "    c2 = []\n",
    "    for c in colList:\n",
    "        if df[c].nunique()>2 :\n",
    "            c2.append(c)\n",
    "    df = pd.get_dummies(df,columns=c2,drop_first=True)\n",
    "    return df"
   ]
  },
  {
   "cell_type": "markdown",
   "metadata": {},
   "source": [
    "### Read Data"
   ]
  },
  {
   "cell_type": "code",
   "execution_count": 77,
   "metadata": {},
   "outputs": [],
   "source": [
    "station_data = pd.read_csv('data/station_data.csv')\n",
    "weather_data = pd.read_csv('data/weather_data.csv')\n",
    "trip_data = pd.read_csv('data/trip_data.csv')"
   ]
  },
  {
   "cell_type": "code",
   "execution_count": 78,
   "metadata": {},
   "outputs": [
    {
     "data": {
      "text/plain": [
       "(76, 6)"
      ]
     },
     "execution_count": 78,
     "metadata": {},
     "output_type": "execute_result"
    }
   ],
   "source": [
    "station_data.shape"
   ]
  },
  {
   "cell_type": "code",
   "execution_count": 40,
   "metadata": {},
   "outputs": [
    {
     "data": {
      "text/html": [
       "<div>\n",
       "<style scoped>\n",
       "    .dataframe tbody tr th:only-of-type {\n",
       "        vertical-align: middle;\n",
       "    }\n",
       "\n",
       "    .dataframe tbody tr th {\n",
       "        vertical-align: top;\n",
       "    }\n",
       "\n",
       "    .dataframe thead th {\n",
       "        text-align: right;\n",
       "    }\n",
       "</style>\n",
       "<table border=\"1\" class=\"dataframe\">\n",
       "  <thead>\n",
       "    <tr style=\"text-align: right;\">\n",
       "      <th></th>\n",
       "      <th>Id</th>\n",
       "      <th>Name</th>\n",
       "      <th>Lat</th>\n",
       "      <th>Long</th>\n",
       "      <th>Dock Count</th>\n",
       "      <th>City</th>\n",
       "    </tr>\n",
       "  </thead>\n",
       "  <tbody>\n",
       "    <tr>\n",
       "      <th>0</th>\n",
       "      <td>2</td>\n",
       "      <td>San Jose Diridon Caltrain Station</td>\n",
       "      <td>37.329732</td>\n",
       "      <td>-121.901782</td>\n",
       "      <td>27</td>\n",
       "      <td>San Jose</td>\n",
       "    </tr>\n",
       "    <tr>\n",
       "      <th>1</th>\n",
       "      <td>3</td>\n",
       "      <td>San Jose Civic Center</td>\n",
       "      <td>37.330698</td>\n",
       "      <td>-121.888979</td>\n",
       "      <td>15</td>\n",
       "      <td>San Jose</td>\n",
       "    </tr>\n",
       "    <tr>\n",
       "      <th>2</th>\n",
       "      <td>4</td>\n",
       "      <td>Santa Clara at Almaden</td>\n",
       "      <td>37.333988</td>\n",
       "      <td>-121.894902</td>\n",
       "      <td>11</td>\n",
       "      <td>San Jose</td>\n",
       "    </tr>\n",
       "    <tr>\n",
       "      <th>3</th>\n",
       "      <td>5</td>\n",
       "      <td>Adobe on Almaden</td>\n",
       "      <td>37.331415</td>\n",
       "      <td>-121.893200</td>\n",
       "      <td>19</td>\n",
       "      <td>San Jose</td>\n",
       "    </tr>\n",
       "    <tr>\n",
       "      <th>4</th>\n",
       "      <td>6</td>\n",
       "      <td>San Pedro Square</td>\n",
       "      <td>37.336721</td>\n",
       "      <td>-121.894074</td>\n",
       "      <td>15</td>\n",
       "      <td>San Jose</td>\n",
       "    </tr>\n",
       "  </tbody>\n",
       "</table>\n",
       "</div>"
      ],
      "text/plain": [
       "   Id                               Name        Lat        Long  Dock Count  \\\n",
       "0   2  San Jose Diridon Caltrain Station  37.329732 -121.901782          27   \n",
       "1   3              San Jose Civic Center  37.330698 -121.888979          15   \n",
       "2   4             Santa Clara at Almaden  37.333988 -121.894902          11   \n",
       "3   5                   Adobe on Almaden  37.331415 -121.893200          19   \n",
       "4   6                   San Pedro Square  37.336721 -121.894074          15   \n",
       "\n",
       "       City  \n",
       "0  San Jose  \n",
       "1  San Jose  \n",
       "2  San Jose  \n",
       "3  San Jose  \n",
       "4  San Jose  "
      ]
     },
     "execution_count": 40,
     "metadata": {},
     "output_type": "execute_result"
    }
   ],
   "source": [
    "station_data.head()"
   ]
  },
  {
   "cell_type": "code",
   "execution_count": 41,
   "metadata": {},
   "outputs": [
    {
     "data": {
      "text/html": [
       "<div>\n",
       "<style scoped>\n",
       "    .dataframe tbody tr th:only-of-type {\n",
       "        vertical-align: middle;\n",
       "    }\n",
       "\n",
       "    .dataframe tbody tr th {\n",
       "        vertical-align: top;\n",
       "    }\n",
       "\n",
       "    .dataframe thead th {\n",
       "        text-align: right;\n",
       "    }\n",
       "</style>\n",
       "<table border=\"1\" class=\"dataframe\">\n",
       "  <thead>\n",
       "    <tr style=\"text-align: right;\">\n",
       "      <th></th>\n",
       "      <th>Date</th>\n",
       "      <th>Max TemperatureF</th>\n",
       "      <th>Mean TemperatureF</th>\n",
       "      <th>Min TemperatureF</th>\n",
       "      <th>Max Dew PointF</th>\n",
       "      <th>MeanDew PointF</th>\n",
       "      <th>Min DewpointF</th>\n",
       "      <th>Max Humidity</th>\n",
       "      <th>Mean Humidity</th>\n",
       "      <th>Min Humidity</th>\n",
       "      <th>Max Sea Level PressureIn</th>\n",
       "      <th>Mean Sea Level PressureIn</th>\n",
       "      <th>Min Sea Level PressureIn</th>\n",
       "      <th>Max VisibilityMiles</th>\n",
       "      <th>Mean VisibilityMiles</th>\n",
       "      <th>Min VisibilityMiles</th>\n",
       "      <th>Max Wind SpeedMPH</th>\n",
       "      <th>Mean Wind SpeedMPH</th>\n",
       "      <th>Max Gust SpeedMPH</th>\n",
       "      <th>PrecipitationIn</th>\n",
       "      <th>CloudCover</th>\n",
       "      <th>Events</th>\n",
       "      <th>WindDirDegrees</th>\n",
       "      <th>Zip</th>\n",
       "    </tr>\n",
       "  </thead>\n",
       "  <tbody>\n",
       "    <tr>\n",
       "      <th>0</th>\n",
       "      <td>01/09/2014</td>\n",
       "      <td>83.0</td>\n",
       "      <td>70.0</td>\n",
       "      <td>57.0</td>\n",
       "      <td>58.0</td>\n",
       "      <td>56.0</td>\n",
       "      <td>52.0</td>\n",
       "      <td>86.0</td>\n",
       "      <td>64.0</td>\n",
       "      <td>42.0</td>\n",
       "      <td>29.86</td>\n",
       "      <td>29.82</td>\n",
       "      <td>29.76</td>\n",
       "      <td>10.0</td>\n",
       "      <td>10.0</td>\n",
       "      <td>8.0</td>\n",
       "      <td>16.0</td>\n",
       "      <td>7.0</td>\n",
       "      <td>20.0</td>\n",
       "      <td>0.0</td>\n",
       "      <td>0.0</td>\n",
       "      <td>NaN</td>\n",
       "      <td>290.0</td>\n",
       "      <td>94107</td>\n",
       "    </tr>\n",
       "    <tr>\n",
       "      <th>1</th>\n",
       "      <td>02/09/2014</td>\n",
       "      <td>72.0</td>\n",
       "      <td>66.0</td>\n",
       "      <td>60.0</td>\n",
       "      <td>58.0</td>\n",
       "      <td>57.0</td>\n",
       "      <td>55.0</td>\n",
       "      <td>84.0</td>\n",
       "      <td>73.0</td>\n",
       "      <td>61.0</td>\n",
       "      <td>29.87</td>\n",
       "      <td>29.82</td>\n",
       "      <td>29.79</td>\n",
       "      <td>10.0</td>\n",
       "      <td>10.0</td>\n",
       "      <td>7.0</td>\n",
       "      <td>21.0</td>\n",
       "      <td>8.0</td>\n",
       "      <td>NaN</td>\n",
       "      <td>0.0</td>\n",
       "      <td>5.0</td>\n",
       "      <td>NaN</td>\n",
       "      <td>290.0</td>\n",
       "      <td>94107</td>\n",
       "    </tr>\n",
       "    <tr>\n",
       "      <th>2</th>\n",
       "      <td>03/09/2014</td>\n",
       "      <td>76.0</td>\n",
       "      <td>69.0</td>\n",
       "      <td>61.0</td>\n",
       "      <td>57.0</td>\n",
       "      <td>56.0</td>\n",
       "      <td>55.0</td>\n",
       "      <td>84.0</td>\n",
       "      <td>69.0</td>\n",
       "      <td>53.0</td>\n",
       "      <td>29.81</td>\n",
       "      <td>29.76</td>\n",
       "      <td>29.72</td>\n",
       "      <td>10.0</td>\n",
       "      <td>10.0</td>\n",
       "      <td>10.0</td>\n",
       "      <td>21.0</td>\n",
       "      <td>8.0</td>\n",
       "      <td>24.0</td>\n",
       "      <td>0.0</td>\n",
       "      <td>4.0</td>\n",
       "      <td>NaN</td>\n",
       "      <td>276.0</td>\n",
       "      <td>94107</td>\n",
       "    </tr>\n",
       "    <tr>\n",
       "      <th>3</th>\n",
       "      <td>04/09/2014</td>\n",
       "      <td>74.0</td>\n",
       "      <td>68.0</td>\n",
       "      <td>61.0</td>\n",
       "      <td>57.0</td>\n",
       "      <td>57.0</td>\n",
       "      <td>56.0</td>\n",
       "      <td>84.0</td>\n",
       "      <td>71.0</td>\n",
       "      <td>57.0</td>\n",
       "      <td>29.81</td>\n",
       "      <td>29.76</td>\n",
       "      <td>29.72</td>\n",
       "      <td>10.0</td>\n",
       "      <td>10.0</td>\n",
       "      <td>8.0</td>\n",
       "      <td>22.0</td>\n",
       "      <td>8.0</td>\n",
       "      <td>25.0</td>\n",
       "      <td>0.0</td>\n",
       "      <td>5.0</td>\n",
       "      <td>NaN</td>\n",
       "      <td>301.0</td>\n",
       "      <td>94107</td>\n",
       "    </tr>\n",
       "    <tr>\n",
       "      <th>4</th>\n",
       "      <td>05/09/2014</td>\n",
       "      <td>72.0</td>\n",
       "      <td>66.0</td>\n",
       "      <td>60.0</td>\n",
       "      <td>57.0</td>\n",
       "      <td>56.0</td>\n",
       "      <td>54.0</td>\n",
       "      <td>84.0</td>\n",
       "      <td>71.0</td>\n",
       "      <td>57.0</td>\n",
       "      <td>29.92</td>\n",
       "      <td>29.87</td>\n",
       "      <td>29.81</td>\n",
       "      <td>10.0</td>\n",
       "      <td>9.0</td>\n",
       "      <td>7.0</td>\n",
       "      <td>18.0</td>\n",
       "      <td>8.0</td>\n",
       "      <td>32.0</td>\n",
       "      <td>0.0</td>\n",
       "      <td>4.0</td>\n",
       "      <td>NaN</td>\n",
       "      <td>309.0</td>\n",
       "      <td>94107</td>\n",
       "    </tr>\n",
       "  </tbody>\n",
       "</table>\n",
       "</div>"
      ],
      "text/plain": [
       "         Date  Max TemperatureF  Mean TemperatureF  Min TemperatureF  \\\n",
       "0  01/09/2014              83.0               70.0              57.0   \n",
       "1  02/09/2014              72.0               66.0              60.0   \n",
       "2  03/09/2014              76.0               69.0              61.0   \n",
       "3  04/09/2014              74.0               68.0              61.0   \n",
       "4  05/09/2014              72.0               66.0              60.0   \n",
       "\n",
       "   Max Dew PointF  MeanDew PointF  Min DewpointF  Max Humidity  Mean Humidity  \\\n",
       "0            58.0            56.0           52.0          86.0           64.0   \n",
       "1            58.0            57.0           55.0          84.0           73.0   \n",
       "2            57.0            56.0           55.0          84.0           69.0   \n",
       "3            57.0            57.0           56.0          84.0           71.0   \n",
       "4            57.0            56.0           54.0          84.0           71.0   \n",
       "\n",
       "   Min Humidity  Max Sea Level PressureIn  Mean Sea Level PressureIn  \\\n",
       "0          42.0                     29.86                      29.82   \n",
       "1          61.0                     29.87                      29.82   \n",
       "2          53.0                     29.81                      29.76   \n",
       "3          57.0                     29.81                      29.76   \n",
       "4          57.0                     29.92                      29.87   \n",
       "\n",
       "   Min Sea Level PressureIn  Max VisibilityMiles  Mean VisibilityMiles  \\\n",
       "0                     29.76                 10.0                  10.0   \n",
       "1                     29.79                 10.0                  10.0   \n",
       "2                     29.72                 10.0                  10.0   \n",
       "3                     29.72                 10.0                  10.0   \n",
       "4                     29.81                 10.0                   9.0   \n",
       "\n",
       "   Min VisibilityMiles  Max Wind SpeedMPH  Mean Wind SpeedMPH  \\\n",
       "0                  8.0               16.0                 7.0   \n",
       "1                  7.0               21.0                 8.0   \n",
       "2                 10.0               21.0                 8.0   \n",
       "3                  8.0               22.0                 8.0   \n",
       "4                  7.0               18.0                 8.0   \n",
       "\n",
       "   Max Gust SpeedMPH  PrecipitationIn  CloudCover Events  WindDirDegrees  \\\n",
       "0               20.0              0.0         0.0    NaN           290.0   \n",
       "1                NaN              0.0         5.0    NaN           290.0   \n",
       "2               24.0              0.0         4.0    NaN           276.0   \n",
       "3               25.0              0.0         5.0    NaN           301.0   \n",
       "4               32.0              0.0         4.0    NaN           309.0   \n",
       "\n",
       "     Zip  \n",
       "0  94107  \n",
       "1  94107  \n",
       "2  94107  \n",
       "3  94107  \n",
       "4  94107  "
      ]
     },
     "execution_count": 41,
     "metadata": {},
     "output_type": "execute_result"
    }
   ],
   "source": [
    "weather_data.head()"
   ]
  },
  {
   "cell_type": "code",
   "execution_count": 42,
   "metadata": {},
   "outputs": [
    {
     "data": {
      "text/html": [
       "<div>\n",
       "<style scoped>\n",
       "    .dataframe tbody tr th:only-of-type {\n",
       "        vertical-align: middle;\n",
       "    }\n",
       "\n",
       "    .dataframe tbody tr th {\n",
       "        vertical-align: top;\n",
       "    }\n",
       "\n",
       "    .dataframe thead th {\n",
       "        text-align: right;\n",
       "    }\n",
       "</style>\n",
       "<table border=\"1\" class=\"dataframe\">\n",
       "  <thead>\n",
       "    <tr style=\"text-align: right;\">\n",
       "      <th></th>\n",
       "      <th>Trip ID</th>\n",
       "      <th>Start Date</th>\n",
       "      <th>Start Station</th>\n",
       "      <th>End Date</th>\n",
       "      <th>End Station</th>\n",
       "      <th>Subscriber Type</th>\n",
       "    </tr>\n",
       "  </thead>\n",
       "  <tbody>\n",
       "    <tr>\n",
       "      <th>0</th>\n",
       "      <td>913460</td>\n",
       "      <td>31/08/2015 23:26</td>\n",
       "      <td>50</td>\n",
       "      <td>31/08/2015 23:39</td>\n",
       "      <td>70</td>\n",
       "      <td>Subscriber</td>\n",
       "    </tr>\n",
       "    <tr>\n",
       "      <th>1</th>\n",
       "      <td>913459</td>\n",
       "      <td>31/08/2015 23:11</td>\n",
       "      <td>31</td>\n",
       "      <td>31/08/2015 23:28</td>\n",
       "      <td>27</td>\n",
       "      <td>Subscriber</td>\n",
       "    </tr>\n",
       "    <tr>\n",
       "      <th>2</th>\n",
       "      <td>913455</td>\n",
       "      <td>31/08/2015 23:13</td>\n",
       "      <td>47</td>\n",
       "      <td>31/08/2015 23:18</td>\n",
       "      <td>64</td>\n",
       "      <td>Subscriber</td>\n",
       "    </tr>\n",
       "    <tr>\n",
       "      <th>3</th>\n",
       "      <td>913454</td>\n",
       "      <td>31/08/2015 23:10</td>\n",
       "      <td>10</td>\n",
       "      <td>31/08/2015 23:17</td>\n",
       "      <td>8</td>\n",
       "      <td>Subscriber</td>\n",
       "    </tr>\n",
       "    <tr>\n",
       "      <th>4</th>\n",
       "      <td>913453</td>\n",
       "      <td>31/08/2015 23:09</td>\n",
       "      <td>51</td>\n",
       "      <td>31/08/2015 23:22</td>\n",
       "      <td>60</td>\n",
       "      <td>Customer</td>\n",
       "    </tr>\n",
       "  </tbody>\n",
       "</table>\n",
       "</div>"
      ],
      "text/plain": [
       "   Trip ID        Start Date  Start Station          End Date  End Station  \\\n",
       "0   913460  31/08/2015 23:26             50  31/08/2015 23:39           70   \n",
       "1   913459  31/08/2015 23:11             31  31/08/2015 23:28           27   \n",
       "2   913455  31/08/2015 23:13             47  31/08/2015 23:18           64   \n",
       "3   913454  31/08/2015 23:10             10  31/08/2015 23:17            8   \n",
       "4   913453  31/08/2015 23:09             51  31/08/2015 23:22           60   \n",
       "\n",
       "  Subscriber Type  \n",
       "0      Subscriber  \n",
       "1      Subscriber  \n",
       "2      Subscriber  \n",
       "3      Subscriber  \n",
       "4        Customer  "
      ]
     },
     "execution_count": 42,
     "metadata": {},
     "output_type": "execute_result"
    }
   ],
   "source": [
    "trip_data.head()"
   ]
  },
  {
   "cell_type": "markdown",
   "metadata": {},
   "source": [
    "### Initial Exploration"
   ]
  },
  {
   "cell_type": "code",
   "execution_count": 43,
   "metadata": {},
   "outputs": [
    {
     "data": {
      "text/html": [
       "<div>\n",
       "<style scoped>\n",
       "    .dataframe tbody tr th:only-of-type {\n",
       "        vertical-align: middle;\n",
       "    }\n",
       "\n",
       "    .dataframe tbody tr th {\n",
       "        vertical-align: top;\n",
       "    }\n",
       "\n",
       "    .dataframe thead th {\n",
       "        text-align: right;\n",
       "    }\n",
       "</style>\n",
       "<table border=\"1\" class=\"dataframe\">\n",
       "  <thead>\n",
       "    <tr style=\"text-align: right;\">\n",
       "      <th></th>\n",
       "      <th>Id</th>\n",
       "      <th>Lat</th>\n",
       "      <th>Long</th>\n",
       "      <th>Dock Count</th>\n",
       "    </tr>\n",
       "  </thead>\n",
       "  <tbody>\n",
       "    <tr>\n",
       "      <th>count</th>\n",
       "      <td>76.000000</td>\n",
       "      <td>76.000000</td>\n",
       "      <td>76.000000</td>\n",
       "      <td>76.000000</td>\n",
       "    </tr>\n",
       "    <tr>\n",
       "      <th>mean</th>\n",
       "      <td>46.513158</td>\n",
       "      <td>37.597618</td>\n",
       "      <td>-122.228385</td>\n",
       "      <td>17.815789</td>\n",
       "    </tr>\n",
       "    <tr>\n",
       "      <th>std</th>\n",
       "      <td>26.142427</td>\n",
       "      <td>0.200675</td>\n",
       "      <td>0.205135</td>\n",
       "      <td>4.015671</td>\n",
       "    </tr>\n",
       "    <tr>\n",
       "      <th>min</th>\n",
       "      <td>2.000000</td>\n",
       "      <td>37.329732</td>\n",
       "      <td>-122.418954</td>\n",
       "      <td>11.000000</td>\n",
       "    </tr>\n",
       "    <tr>\n",
       "      <th>25%</th>\n",
       "      <td>25.750000</td>\n",
       "      <td>37.393338</td>\n",
       "      <td>-122.400824</td>\n",
       "      <td>15.000000</td>\n",
       "    </tr>\n",
       "    <tr>\n",
       "      <th>50%</th>\n",
       "      <td>47.500000</td>\n",
       "      <td>37.772936</td>\n",
       "      <td>-122.389138</td>\n",
       "      <td>15.000000</td>\n",
       "    </tr>\n",
       "    <tr>\n",
       "      <th>75%</th>\n",
       "      <td>68.250000</td>\n",
       "      <td>37.787475</td>\n",
       "      <td>-122.083233</td>\n",
       "      <td>19.000000</td>\n",
       "    </tr>\n",
       "    <tr>\n",
       "      <th>max</th>\n",
       "      <td>90.000000</td>\n",
       "      <td>37.804770</td>\n",
       "      <td>-121.877349</td>\n",
       "      <td>27.000000</td>\n",
       "    </tr>\n",
       "  </tbody>\n",
       "</table>\n",
       "</div>"
      ],
      "text/plain": [
       "              Id        Lat        Long  Dock Count\n",
       "count  76.000000  76.000000   76.000000   76.000000\n",
       "mean   46.513158  37.597618 -122.228385   17.815789\n",
       "std    26.142427   0.200675    0.205135    4.015671\n",
       "min     2.000000  37.329732 -122.418954   11.000000\n",
       "25%    25.750000  37.393338 -122.400824   15.000000\n",
       "50%    47.500000  37.772936 -122.389138   15.000000\n",
       "75%    68.250000  37.787475 -122.083233   19.000000\n",
       "max    90.000000  37.804770 -121.877349   27.000000"
      ]
     },
     "execution_count": 43,
     "metadata": {},
     "output_type": "execute_result"
    }
   ],
   "source": [
    "station_data.describe()"
   ]
  },
  {
   "cell_type": "code",
   "execution_count": 44,
   "metadata": {},
   "outputs": [
    {
     "data": {
      "text/html": [
       "<div>\n",
       "<style scoped>\n",
       "    .dataframe tbody tr th:only-of-type {\n",
       "        vertical-align: middle;\n",
       "    }\n",
       "\n",
       "    .dataframe tbody tr th {\n",
       "        vertical-align: top;\n",
       "    }\n",
       "\n",
       "    .dataframe thead th {\n",
       "        text-align: right;\n",
       "    }\n",
       "</style>\n",
       "<table border=\"1\" class=\"dataframe\">\n",
       "  <thead>\n",
       "    <tr style=\"text-align: right;\">\n",
       "      <th></th>\n",
       "      <th>Trip ID</th>\n",
       "      <th>Start Station</th>\n",
       "      <th>End Station</th>\n",
       "    </tr>\n",
       "  </thead>\n",
       "  <tbody>\n",
       "    <tr>\n",
       "      <th>count</th>\n",
       "      <td>354152.000000</td>\n",
       "      <td>354152.000000</td>\n",
       "      <td>354152.000000</td>\n",
       "    </tr>\n",
       "    <tr>\n",
       "      <th>mean</th>\n",
       "      <td>676962.274416</td>\n",
       "      <td>59.755159</td>\n",
       "      <td>59.714665</td>\n",
       "    </tr>\n",
       "    <tr>\n",
       "      <th>std</th>\n",
       "      <td>138874.153513</td>\n",
       "      <td>17.891604</td>\n",
       "      <td>18.034273</td>\n",
       "    </tr>\n",
       "    <tr>\n",
       "      <th>min</th>\n",
       "      <td>432947.000000</td>\n",
       "      <td>2.000000</td>\n",
       "      <td>2.000000</td>\n",
       "    </tr>\n",
       "    <tr>\n",
       "      <th>25%</th>\n",
       "      <td>557009.750000</td>\n",
       "      <td>51.000000</td>\n",
       "      <td>50.000000</td>\n",
       "    </tr>\n",
       "    <tr>\n",
       "      <th>50%</th>\n",
       "      <td>679451.500000</td>\n",
       "      <td>63.000000</td>\n",
       "      <td>63.000000</td>\n",
       "    </tr>\n",
       "    <tr>\n",
       "      <th>75%</th>\n",
       "      <td>798026.250000</td>\n",
       "      <td>71.000000</td>\n",
       "      <td>70.000000</td>\n",
       "    </tr>\n",
       "    <tr>\n",
       "      <th>max</th>\n",
       "      <td>913460.000000</td>\n",
       "      <td>90.000000</td>\n",
       "      <td>90.000000</td>\n",
       "    </tr>\n",
       "  </tbody>\n",
       "</table>\n",
       "</div>"
      ],
      "text/plain": [
       "             Trip ID  Start Station    End Station\n",
       "count  354152.000000  354152.000000  354152.000000\n",
       "mean   676962.274416      59.755159      59.714665\n",
       "std    138874.153513      17.891604      18.034273\n",
       "min    432947.000000       2.000000       2.000000\n",
       "25%    557009.750000      51.000000      50.000000\n",
       "50%    679451.500000      63.000000      63.000000\n",
       "75%    798026.250000      71.000000      70.000000\n",
       "max    913460.000000      90.000000      90.000000"
      ]
     },
     "execution_count": 44,
     "metadata": {},
     "output_type": "execute_result"
    }
   ],
   "source": [
    "trip_data.describe()"
   ]
  },
  {
   "cell_type": "markdown",
   "metadata": {},
   "source": [
    "### Data Cleaning"
   ]
  },
  {
   "cell_type": "markdown",
   "metadata": {},
   "source": [
    "- Fix the station renameing before starting the analysis\n",
    "- Check whether the data is duplicated, check sample of the stations"
   ]
  },
  {
   "cell_type": "code",
   "execution_count": 52,
   "metadata": {},
   "outputs": [
    {
     "data": {
      "text/html": [
       "<div>\n",
       "<style scoped>\n",
       "    .dataframe tbody tr th:only-of-type {\n",
       "        vertical-align: middle;\n",
       "    }\n",
       "\n",
       "    .dataframe tbody tr th {\n",
       "        vertical-align: top;\n",
       "    }\n",
       "\n",
       "    .dataframe thead th {\n",
       "        text-align: right;\n",
       "    }\n",
       "</style>\n",
       "<table border=\"1\" class=\"dataframe\">\n",
       "  <thead>\n",
       "    <tr style=\"text-align: right;\">\n",
       "      <th></th>\n",
       "      <th>Id</th>\n",
       "      <th>Name</th>\n",
       "      <th>Lat</th>\n",
       "      <th>Long</th>\n",
       "      <th>Dock Count</th>\n",
       "      <th>City</th>\n",
       "    </tr>\n",
       "  </thead>\n",
       "  <tbody>\n",
       "    <tr>\n",
       "      <th>65</th>\n",
       "      <td>89</td>\n",
       "      <td>Civic Center BART (7th at Market)</td>\n",
       "      <td>37.780353</td>\n",
       "      <td>-122.41226</td>\n",
       "      <td>23</td>\n",
       "      <td>San Francisco</td>\n",
       "    </tr>\n",
       "  </tbody>\n",
       "</table>\n",
       "</div>"
      ],
      "text/plain": [
       "    Id                               Name        Lat       Long  Dock Count  \\\n",
       "65  89  Civic Center BART (7th at Market)  37.780353 -122.41226          23   \n",
       "\n",
       "             City  \n",
       "65  San Francisco  "
      ]
     },
     "execution_count": 52,
     "metadata": {},
     "output_type": "execute_result"
    }
   ],
   "source": [
    "station_data[station_data['Id'] == 89]"
   ]
  },
  {
   "cell_type": "code",
   "execution_count": 53,
   "metadata": {},
   "outputs": [
    {
     "data": {
      "text/html": [
       "<div>\n",
       "<style scoped>\n",
       "    .dataframe tbody tr th:only-of-type {\n",
       "        vertical-align: middle;\n",
       "    }\n",
       "\n",
       "    .dataframe tbody tr th {\n",
       "        vertical-align: top;\n",
       "    }\n",
       "\n",
       "    .dataframe thead th {\n",
       "        text-align: right;\n",
       "    }\n",
       "</style>\n",
       "<table border=\"1\" class=\"dataframe\">\n",
       "  <thead>\n",
       "    <tr style=\"text-align: right;\">\n",
       "      <th></th>\n",
       "      <th>Id</th>\n",
       "      <th>Name</th>\n",
       "      <th>Lat</th>\n",
       "      <th>Long</th>\n",
       "      <th>Dock Count</th>\n",
       "      <th>City</th>\n",
       "    </tr>\n",
       "  </thead>\n",
       "  <tbody>\n",
       "    <tr>\n",
       "      <th>66</th>\n",
       "      <td>90</td>\n",
       "      <td>Civic Center BART (7th at Market)</td>\n",
       "      <td>37.781039</td>\n",
       "      <td>-122.411748</td>\n",
       "      <td>23</td>\n",
       "      <td>San Francisco</td>\n",
       "    </tr>\n",
       "  </tbody>\n",
       "</table>\n",
       "</div>"
      ],
      "text/plain": [
       "    Id                               Name        Lat        Long  Dock Count  \\\n",
       "66  90  Civic Center BART (7th at Market)  37.781039 -122.411748          23   \n",
       "\n",
       "             City  \n",
       "66  San Francisco  "
      ]
     },
     "execution_count": 53,
     "metadata": {},
     "output_type": "execute_result"
    }
   ],
   "source": [
    "station_data[station_data['Id'] == 90]"
   ]
  },
  {
   "cell_type": "markdown",
   "metadata": {},
   "source": [
    "- Data is duplicated for the station with name change, change the id, drop the duplicated values"
   ]
  },
  {
   "cell_type": "code",
   "execution_count": 79,
   "metadata": {},
   "outputs": [],
   "source": [
    "station_rename = {23:85, 25:86, 49:87,69:88,72:90,89:90}\n",
    "#Fix the station and trip Data\n",
    "for key, value in station_rename.items():\n",
    "    trip_data.loc[trip_data['Start Station']==key , 'Start Station'] =value\n",
    "    trip_data.loc[trip_data['End Station']==key , 'End Station'] =value\n",
    "    station_data.loc[station_data['Id']==key , 'Id'] =value"
   ]
  },
  {
   "cell_type": "code",
   "execution_count": 69,
   "metadata": {},
   "outputs": [],
   "source": [
    "# sorting by first name \n",
    "station_data.sort_values(\"Id\", inplace=True) "
   ]
  },
  {
   "cell_type": "code",
   "execution_count": 81,
   "metadata": {},
   "outputs": [],
   "source": [
    "# dropping duplicate values from Station Data\n",
    "station_data.drop_duplicates(subset='Id',keep=\"last\",inplace=True) "
   ]
  },
  {
   "cell_type": "code",
   "execution_count": 47,
   "metadata": {},
   "outputs": [
    {
     "name": "stdout",
     "output_type": "stream",
     "text": [
      "Empty DataFrame\n",
      "Columns: [Null Count, Null %]\n",
      "Index: []\n"
     ]
    }
   ],
   "source": [
    "# Check Null\n",
    "df_nan = pd.DataFrame({'Null Count': trip_data.isnull().sum(),\n",
    "                        'Null %':trip_data.isna().mean().round(4) * 100}, \n",
    "                      columns=['Null Count' , 'Null %'])\n",
    "print(df_nan[df_nan['Null Count'] > 0])"
   ]
  },
  {
   "cell_type": "markdown",
   "metadata": {},
   "source": [
    "- No Null values Available, great!"
   ]
  },
  {
   "cell_type": "markdown",
   "metadata": {},
   "source": [
    "- Update column Data Types\n"
   ]
  },
  {
   "cell_type": "code",
   "execution_count": 87,
   "metadata": {},
   "outputs": [],
   "source": [
    "trip_data['Start Date']=pd.to_datetime(trip_data ['Start Date'],infer_datetime_format=True)\n",
    "trip_data['End Date']=pd.to_datetime(trip_data ['End Date'],infer_datetime_format=True)"
   ]
  },
  {
   "cell_type": "code",
   "execution_count": 104,
   "metadata": {},
   "outputs": [],
   "source": [
    "#Convert Weather Date\n",
    "weather_data.Date = pd.to_datetime(weather_data.Date, format='%d/%m/%Y')"
   ]
  },
  {
   "cell_type": "markdown",
   "metadata": {},
   "source": [
    "### Feature Engineering\n",
    "- Extract features to help in EDA and model building"
   ]
  },
  {
   "cell_type": "code",
   "execution_count": 84,
   "metadata": {},
   "outputs": [
    {
     "data": {
      "text/plain": [
       "Index(['Trip ID', 'Start Date', 'Start Station', 'End Date', 'End Station',\n",
       "       'Subscriber Type'],\n",
       "      dtype='object')"
      ]
     },
     "execution_count": 84,
     "metadata": {},
     "output_type": "execute_result"
    }
   ],
   "source": [
    "trip_data.columns"
   ]
  },
  {
   "cell_type": "code",
   "execution_count": 89,
   "metadata": {},
   "outputs": [
    {
     "data": {
      "text/html": [
       "<div>\n",
       "<style scoped>\n",
       "    .dataframe tbody tr th:only-of-type {\n",
       "        vertical-align: middle;\n",
       "    }\n",
       "\n",
       "    .dataframe tbody tr th {\n",
       "        vertical-align: top;\n",
       "    }\n",
       "\n",
       "    .dataframe thead th {\n",
       "        text-align: right;\n",
       "    }\n",
       "</style>\n",
       "<table border=\"1\" class=\"dataframe\">\n",
       "  <thead>\n",
       "    <tr style=\"text-align: right;\">\n",
       "      <th></th>\n",
       "      <th>Trip ID</th>\n",
       "      <th>Start Date</th>\n",
       "      <th>Start Station</th>\n",
       "      <th>End Date</th>\n",
       "      <th>End Station</th>\n",
       "      <th>Subscriber Type</th>\n",
       "    </tr>\n",
       "  </thead>\n",
       "  <tbody>\n",
       "    <tr>\n",
       "      <th>0</th>\n",
       "      <td>913460</td>\n",
       "      <td>2015-08-31 23:26:00</td>\n",
       "      <td>50</td>\n",
       "      <td>2015-08-31 23:39:00</td>\n",
       "      <td>70</td>\n",
       "      <td>Subscriber</td>\n",
       "    </tr>\n",
       "    <tr>\n",
       "      <th>1</th>\n",
       "      <td>913459</td>\n",
       "      <td>2015-08-31 23:11:00</td>\n",
       "      <td>31</td>\n",
       "      <td>2015-08-31 23:28:00</td>\n",
       "      <td>27</td>\n",
       "      <td>Subscriber</td>\n",
       "    </tr>\n",
       "    <tr>\n",
       "      <th>2</th>\n",
       "      <td>913455</td>\n",
       "      <td>2015-08-31 23:13:00</td>\n",
       "      <td>47</td>\n",
       "      <td>2015-08-31 23:18:00</td>\n",
       "      <td>64</td>\n",
       "      <td>Subscriber</td>\n",
       "    </tr>\n",
       "    <tr>\n",
       "      <th>3</th>\n",
       "      <td>913454</td>\n",
       "      <td>2015-08-31 23:10:00</td>\n",
       "      <td>10</td>\n",
       "      <td>2015-08-31 23:17:00</td>\n",
       "      <td>8</td>\n",
       "      <td>Subscriber</td>\n",
       "    </tr>\n",
       "    <tr>\n",
       "      <th>4</th>\n",
       "      <td>913453</td>\n",
       "      <td>2015-08-31 23:09:00</td>\n",
       "      <td>51</td>\n",
       "      <td>2015-08-31 23:22:00</td>\n",
       "      <td>60</td>\n",
       "      <td>Customer</td>\n",
       "    </tr>\n",
       "  </tbody>\n",
       "</table>\n",
       "</div>"
      ],
      "text/plain": [
       "   Trip ID          Start Date  Start Station            End Date  \\\n",
       "0   913460 2015-08-31 23:26:00             50 2015-08-31 23:39:00   \n",
       "1   913459 2015-08-31 23:11:00             31 2015-08-31 23:28:00   \n",
       "2   913455 2015-08-31 23:13:00             47 2015-08-31 23:18:00   \n",
       "3   913454 2015-08-31 23:10:00             10 2015-08-31 23:17:00   \n",
       "4   913453 2015-08-31 23:09:00             51 2015-08-31 23:22:00   \n",
       "\n",
       "   End Station Subscriber Type  \n",
       "0           70      Subscriber  \n",
       "1           27      Subscriber  \n",
       "2           64      Subscriber  \n",
       "3            8      Subscriber  \n",
       "4           60        Customer  "
      ]
     },
     "execution_count": 89,
     "metadata": {},
     "output_type": "execute_result"
    }
   ],
   "source": [
    "trip_data.head()"
   ]
  },
  {
   "cell_type": "code",
   "execution_count": 90,
   "metadata": {},
   "outputs": [],
   "source": [
    "# Create Duration Column in Trp\n",
    "trip_data['duration'] = (trip_data['End Date'] - trip_data['Start Date']).astype('timedelta64[m]')"
   ]
  },
  {
   "cell_type": "code",
   "execution_count": 96,
   "metadata": {},
   "outputs": [],
   "source": [
    "# Extract Trip date from Start Date to link with Weather Data\n",
    "trip_data['date'] = trip_data['Start Date'].dt.date"
   ]
  },
  {
   "cell_type": "code",
   "execution_count": 164,
   "metadata": {},
   "outputs": [],
   "source": [
    "trip_data['year'] =  pd.DatetimeIndex(trip_data['date']).year"
   ]
  },
  {
   "cell_type": "code",
   "execution_count": 133,
   "metadata": {},
   "outputs": [],
   "source": [
    "trip_data['month'] =  pd.DatetimeIndex(trip_data['date']).month\n"
   ]
  },
  {
   "cell_type": "code",
   "execution_count": 166,
   "metadata": {},
   "outputs": [],
   "source": [
    "trip_data['day'] =  pd.DatetimeIndex(trip_data['date']).day"
   ]
  },
  {
   "cell_type": "code",
   "execution_count": 135,
   "metadata": {},
   "outputs": [],
   "source": [
    "trip_data['month_year'] =pd.to_datetime(trip_data['date']).dt.to_period('M')\n"
   ]
  },
  {
   "cell_type": "code",
   "execution_count": 147,
   "metadata": {},
   "outputs": [],
   "source": [
    "trip_data['hour'] =pd.to_datetime(trip_data['Start Date']).dt.hour"
   ]
  },
  {
   "cell_type": "code",
   "execution_count": 152,
   "metadata": {},
   "outputs": [],
   "source": [
    "trip_data['weekday'] =pd.to_datetime(trip_data['Start Date']).dt.weekday"
   ]
  },
  {
   "cell_type": "code",
   "execution_count": 167,
   "metadata": {},
   "outputs": [],
   "source": [
    "weather_data.rename(columns={\"Date\": \"date\"} , inplace =True)\n"
   ]
  },
  {
   "cell_type": "code",
   "execution_count": 168,
   "metadata": {},
   "outputs": [],
   "source": [
    "weather_data['year'] =  pd.DatetimeIndex(weather_data['date']).year\n",
    "weather_data['month'] =  pd.DatetimeIndex(weather_data['date']).month\n",
    "weather_data['day'] =  pd.DatetimeIndex(weather_data['date']).day"
   ]
  },
  {
   "cell_type": "markdown",
   "metadata": {},
   "source": [
    "## Exploratory Data Analysis"
   ]
  },
  {
   "cell_type": "code",
   "execution_count": 108,
   "metadata": {},
   "outputs": [
    {
     "data": {
      "text/plain": [
       "Index(['Id', 'Name', 'Lat', 'Long', 'Dock Count', 'City'], dtype='object')"
      ]
     },
     "execution_count": 108,
     "metadata": {},
     "output_type": "execute_result"
    }
   ],
   "source": [
    "station_data.columns"
   ]
  },
  {
   "cell_type": "code",
   "execution_count": 119,
   "metadata": {},
   "outputs": [
    {
     "data": {
      "text/html": [
       "<div>\n",
       "<style scoped>\n",
       "    .dataframe tbody tr th:only-of-type {\n",
       "        vertical-align: middle;\n",
       "    }\n",
       "\n",
       "    .dataframe tbody tr th {\n",
       "        vertical-align: top;\n",
       "    }\n",
       "\n",
       "    .dataframe thead th {\n",
       "        text-align: right;\n",
       "    }\n",
       "</style>\n",
       "<table border=\"1\" class=\"dataframe\">\n",
       "  <thead>\n",
       "    <tr style=\"text-align: right;\">\n",
       "      <th></th>\n",
       "      <th>Trip ID</th>\n",
       "      <th>Start Date</th>\n",
       "      <th>Start Station</th>\n",
       "      <th>End Date</th>\n",
       "      <th>End Station</th>\n",
       "      <th>Subscriber Type</th>\n",
       "      <th>duration</th>\n",
       "      <th>date</th>\n",
       "    </tr>\n",
       "  </thead>\n",
       "  <tbody>\n",
       "    <tr>\n",
       "      <th>55259</th>\n",
       "      <td>841176</td>\n",
       "      <td>2015-07-10 10:35:00</td>\n",
       "      <td>35</td>\n",
       "      <td>2015-07-23 13:27:00</td>\n",
       "      <td>35</td>\n",
       "      <td>Customer</td>\n",
       "      <td>18892.0</td>\n",
       "      <td>2015-07-10</td>\n",
       "    </tr>\n",
       "    <tr>\n",
       "      <th>66911</th>\n",
       "      <td>825850</td>\n",
       "      <td>2015-06-28 21:50:00</td>\n",
       "      <td>77</td>\n",
       "      <td>2015-07-23 15:27:00</td>\n",
       "      <td>68</td>\n",
       "      <td>Customer</td>\n",
       "      <td>35617.0</td>\n",
       "      <td>2015-06-28</td>\n",
       "    </tr>\n",
       "    <tr>\n",
       "      <th>106032</th>\n",
       "      <td>774999</td>\n",
       "      <td>2015-05-20 15:27:00</td>\n",
       "      <td>34</td>\n",
       "      <td>2015-05-28 14:49:00</td>\n",
       "      <td>36</td>\n",
       "      <td>Customer</td>\n",
       "      <td>11482.0</td>\n",
       "      <td>2015-05-20</td>\n",
       "    </tr>\n",
       "    <tr>\n",
       "      <th>124532</th>\n",
       "      <td>750192</td>\n",
       "      <td>2015-05-02 06:17:00</td>\n",
       "      <td>31</td>\n",
       "      <td>2015-05-23 16:53:00</td>\n",
       "      <td>32</td>\n",
       "      <td>Subscriber</td>\n",
       "      <td>30876.0</td>\n",
       "      <td>2015-05-02</td>\n",
       "    </tr>\n",
       "    <tr>\n",
       "      <th>127985</th>\n",
       "      <td>745640</td>\n",
       "      <td>2015-04-29 09:41:00</td>\n",
       "      <td>35</td>\n",
       "      <td>2015-05-06 11:28:00</td>\n",
       "      <td>31</td>\n",
       "      <td>Customer</td>\n",
       "      <td>10187.0</td>\n",
       "      <td>2015-04-29</td>\n",
       "    </tr>\n",
       "    <tr>\n",
       "      <th>208711</th>\n",
       "      <td>635263</td>\n",
       "      <td>2015-02-08 03:09:00</td>\n",
       "      <td>3</td>\n",
       "      <td>2015-02-15 02:28:00</td>\n",
       "      <td>3</td>\n",
       "      <td>Customer</td>\n",
       "      <td>10039.0</td>\n",
       "      <td>2015-02-08</td>\n",
       "    </tr>\n",
       "    <tr>\n",
       "      <th>208714</th>\n",
       "      <td>635260</td>\n",
       "      <td>2015-02-08 03:05:00</td>\n",
       "      <td>3</td>\n",
       "      <td>2015-02-15 17:17:00</td>\n",
       "      <td>12</td>\n",
       "      <td>Customer</td>\n",
       "      <td>10932.0</td>\n",
       "      <td>2015-02-08</td>\n",
       "    </tr>\n",
       "    <tr>\n",
       "      <th>257759</th>\n",
       "      <td>568474</td>\n",
       "      <td>2014-12-06 21:59:00</td>\n",
       "      <td>66</td>\n",
       "      <td>2015-06-24 20:18:00</td>\n",
       "      <td>62</td>\n",
       "      <td>Customer</td>\n",
       "      <td>287899.0</td>\n",
       "      <td>2014-12-06</td>\n",
       "    </tr>\n",
       "    <tr>\n",
       "      <th>290256</th>\n",
       "      <td>522337</td>\n",
       "      <td>2014-10-30 08:29:00</td>\n",
       "      <td>22</td>\n",
       "      <td>2014-11-07 15:36:00</td>\n",
       "      <td>86</td>\n",
       "      <td>Customer</td>\n",
       "      <td>11947.0</td>\n",
       "      <td>2014-10-30</td>\n",
       "    </tr>\n",
       "  </tbody>\n",
       "</table>\n",
       "</div>"
      ],
      "text/plain": [
       "        Trip ID          Start Date  Start Station            End Date  \\\n",
       "55259    841176 2015-07-10 10:35:00             35 2015-07-23 13:27:00   \n",
       "66911    825850 2015-06-28 21:50:00             77 2015-07-23 15:27:00   \n",
       "106032   774999 2015-05-20 15:27:00             34 2015-05-28 14:49:00   \n",
       "124532   750192 2015-05-02 06:17:00             31 2015-05-23 16:53:00   \n",
       "127985   745640 2015-04-29 09:41:00             35 2015-05-06 11:28:00   \n",
       "208711   635263 2015-02-08 03:09:00              3 2015-02-15 02:28:00   \n",
       "208714   635260 2015-02-08 03:05:00              3 2015-02-15 17:17:00   \n",
       "257759   568474 2014-12-06 21:59:00             66 2015-06-24 20:18:00   \n",
       "290256   522337 2014-10-30 08:29:00             22 2014-11-07 15:36:00   \n",
       "\n",
       "        End Station Subscriber Type  duration        date  \n",
       "55259            35        Customer   18892.0  2015-07-10  \n",
       "66911            68        Customer   35617.0  2015-06-28  \n",
       "106032           36        Customer   11482.0  2015-05-20  \n",
       "124532           32      Subscriber   30876.0  2015-05-02  \n",
       "127985           31        Customer   10187.0  2015-04-29  \n",
       "208711            3        Customer   10039.0  2015-02-08  \n",
       "208714           12        Customer   10932.0  2015-02-08  \n",
       "257759           62        Customer  287899.0  2014-12-06  \n",
       "290256           86        Customer   11947.0  2014-10-30  "
      ]
     },
     "execution_count": 119,
     "metadata": {},
     "output_type": "execute_result"
    }
   ],
   "source": [
    "trip_data[trip_data['duration']>10000]"
   ]
  },
  {
   "cell_type": "code",
   "execution_count": 111,
   "metadata": {},
   "outputs": [
    {
     "data": {
      "text/plain": [
       "<matplotlib.axes._subplots.AxesSubplot at 0x2d46d702978>"
      ]
     },
     "execution_count": 111,
     "metadata": {},
     "output_type": "execute_result"
    },
    {
     "data": {
      "image/png": "[encoded data removed]",
      "text/plain": [
       "<Figure size 432x288 with 1 Axes>"
      ]
     },
     "metadata": {
      "needs_background": "light"
     },
     "output_type": "display_data"
    }
   ],
   "source": [
    "# Check Duration Distribution\n",
    "sns.distplot(trip_data['duration'])\n"
   ]
  },
  {
   "cell_type": "markdown",
   "metadata": {},
   "source": [
    "- Some trips has more than 100 minutes duration. need investigation as an outliar"
   ]
  },
  {
   "cell_type": "code",
   "execution_count": 125,
   "metadata": {},
   "outputs": [
    {
     "data": {
      "text/plain": [
       "<matplotlib.axes._subplots.AxesSubplot at 0x2d46cd89320>"
      ]
     },
     "execution_count": 125,
     "metadata": {},
     "output_type": "execute_result"
    },
    {
     "data": {
      "image/png": "[encoded data removed]",
      "text/plain": [
       "<Figure size 432x288 with 1 Axes>"
      ]
     },
     "metadata": {
      "needs_background": "light"
     },
     "output_type": "display_data"
    }
   ],
   "source": [
    "# Exclude it for now to check the distribution   (1 hour limit) \n",
    "sns.distplot(trip_data[trip_data['duration'] < 60]['duration'])"
   ]
  },
  {
   "cell_type": "markdown",
   "metadata": {},
   "source": [
    "- Subscriber Type: Customer VS Subscriber Data"
   ]
  },
  {
   "cell_type": "markdown",
   "metadata": {},
   "source": [
    "- The distrubtion is right skewed, most of the trips are between 1 miutes and 10-15 minutes "
   ]
  },
  {
   "cell_type": "code",
   "execution_count": 145,
   "metadata": {},
   "outputs": [
    {
     "data": {
      "text/plain": [
       "Index(['Trip ID', 'Start Date', 'Start Station', 'End Date', 'End Station',\n",
       "       'Subscriber Type', 'duration', 'date', 'month', 'month_year'],\n",
       "      dtype='object')"
      ]
     },
     "execution_count": 145,
     "metadata": {},
     "output_type": "execute_result"
    }
   ],
   "source": [
    "trip_data.columns"
   ]
  },
  {
   "cell_type": "code",
   "execution_count": 129,
   "metadata": {},
   "outputs": [
    {
     "data": {
      "image/png": "[encoded data removed]",
      "text/plain": [
       "<Figure size 432x288 with 1 Axes>"
      ]
     },
     "metadata": {
      "needs_background": "light"
     },
     "output_type": "display_data"
    }
   ],
   "source": [
    "# Station City Analysis\n",
    "station_data.groupby('City')['Dock Count'].sum().plot(kind='bar')\n",
    "plt.show()"
   ]
  },
  {
   "cell_type": "markdown",
   "metadata": {},
   "source": [
    "- San Francisco City has the largest number of Bike Docks"
   ]
  },
  {
   "cell_type": "code",
   "execution_count": 143,
   "metadata": {},
   "outputs": [
    {
     "data": {
      "text/plain": [
       "<matplotlib.axes._subplots.AxesSubplot at 0x2d46d897e80>"
      ]
     },
     "execution_count": 143,
     "metadata": {},
     "output_type": "execute_result"
    },
    {
     "data": {
      "image/png": "[encoded data removed]",
      "text/plain": [
       "<Figure size 1080x504 with 1 Axes>"
      ]
     },
     "metadata": {},
     "output_type": "display_data"
    }
   ],
   "source": [
    "# Trip Daily Trend by Subscriber Type\n",
    "fig, ax = plt.subplots(figsize=(15,7))\n",
    "trip_data.groupby(['date','Subscriber Type']).count()['Trip ID'].unstack().plot(ax=ax)"
   ]
  },
  {
   "cell_type": "markdown",
   "metadata": {},
   "source": [
    "- Subscriber Type \" Subscriber\" has the majority of the trips in the platform. Customers are mostly visitors to the city"
   ]
  },
  {
   "cell_type": "code",
   "execution_count": 149,
   "metadata": {},
   "outputs": [
    {
     "data": {
      "text/plain": [
       "<matplotlib.axes._subplots.AxesSubplot at 0x2d467bebcc0>"
      ]
     },
     "execution_count": 149,
     "metadata": {},
     "output_type": "execute_result"
    },
    {
     "data": {
      "image/png": "[encoded data removed]",
      "text/plain": [
       "<Figure size 1080x504 with 1 Axes>"
      ]
     },
     "metadata": {},
     "output_type": "display_data"
    }
   ],
   "source": [
    "# Trip houry rate by Subscriber Type\n",
    "fig, ax = plt.subplots(figsize=(15,7))\n",
    "trip_data.groupby(['hour','Subscriber Type']).count()['Trip ID'].unstack().plot(ax=ax)"
   ]
  },
  {
   "cell_type": "markdown",
   "metadata": {},
   "source": [
    "- Most of the \"Subscriber\" trips are done in the morning (between 6-9 AM) and (4-8 PM) . the normal commute hours \n",
    "- the \"Customer\" trips are steady between 6 AM and 8 PM, usually for visiting the city "
   ]
  },
  {
   "cell_type": "code",
   "execution_count": 153,
   "metadata": {},
   "outputs": [
    {
     "data": {
      "text/plain": [
       "<matplotlib.axes._subplots.AxesSubplot at 0x2d46661d6a0>"
      ]
     },
     "execution_count": 153,
     "metadata": {},
     "output_type": "execute_result"
    },
    {
     "data": {
      "image/png": "[encoded data removed]",
      "text/plain": [
       "<Figure size 1080x504 with 1 Axes>"
      ]
     },
     "metadata": {},
     "output_type": "display_data"
    }
   ],
   "source": [
    "# Trip weekday rate by Subscriber Type, 0 is Monday and 6 is Sunday.\n",
    "fig, ax = plt.subplots(figsize=(15,7))\n",
    "trip_data.groupby(['weekday','Subscriber Type']).count()['Trip ID'].unstack().plot(ax=ax)"
   ]
  },
  {
   "cell_type": "markdown",
   "metadata": {},
   "source": [
    "- Most of the trips are on the normal weekdays, and very less during weekends"
   ]
  },
  {
   "cell_type": "markdown",
   "metadata": {},
   "source": [
    "## Modeling Approach "
   ]
  },
  {
   "cell_type": "markdown",
   "metadata": {},
   "source": [
    "- This is a regression use case, we need to use regression models. \n",
    "- We will use RandomForestRegressor and GradientBoostingRegressor algorithms\n",
    "- Prepare the data after analyis\n",
    "- Split the data into train and test splits\n",
    "- Use above mentioned models to predict the outcome\n",
    "- Check the model perforomance"
   ]
  },
  {
   "cell_type": "markdown",
   "metadata": {},
   "source": [
    "###  Prepare the data"
   ]
  },
  {
   "cell_type": "code",
   "execution_count": 169,
   "metadata": {},
   "outputs": [],
   "source": [
    "final = pd.merge(trip_data, weather_data, on=['year','month','day'])"
   ]
  },
  {
   "cell_type": "code",
   "execution_count": 170,
   "metadata": {},
   "outputs": [
    {
     "data": {
      "text/plain": [
       "Index(['Trip ID', 'Start Date', 'Start Station', 'End Date', 'End Station',\n",
       "       'Subscriber Type', 'duration', 'date_x', 'month', 'month_year', 'hour',\n",
       "       'weekday', 'year', 'day', 'date_y', 'Max TemperatureF',\n",
       "       'Mean TemperatureF', 'Min TemperatureF', 'Max Dew PointF',\n",
       "       'MeanDew PointF', 'Min DewpointF', 'Max Humidity', 'Mean Humidity',\n",
       "       'Min Humidity', 'Max Sea Level PressureIn', 'Mean Sea Level PressureIn',\n",
       "       'Min Sea Level PressureIn', 'Max VisibilityMiles',\n",
       "       'Mean VisibilityMiles', 'Min VisibilityMiles', 'Max Wind SpeedMPH',\n",
       "       'Mean Wind SpeedMPH', 'Max Gust SpeedMPH', 'PrecipitationIn',\n",
       "       'CloudCover', 'Events', 'WindDirDegrees', 'Zip'],\n",
       "      dtype='object')"
      ]
     },
     "execution_count": 170,
     "metadata": {},
     "output_type": "execute_result"
    }
   ],
   "source": [
    "final.columns"
   ]
  },
  {
   "cell_type": "code",
   "execution_count": 172,
   "metadata": {},
   "outputs": [
    {
     "data": {
      "text/html": [
       "<div>\n",
       "<style scoped>\n",
       "    .dataframe tbody tr th:only-of-type {\n",
       "        vertical-align: middle;\n",
       "    }\n",
       "\n",
       "    .dataframe tbody tr th {\n",
       "        vertical-align: top;\n",
       "    }\n",
       "\n",
       "    .dataframe thead th {\n",
       "        text-align: right;\n",
       "    }\n",
       "</style>\n",
       "<table border=\"1\" class=\"dataframe\">\n",
       "  <thead>\n",
       "    <tr style=\"text-align: right;\">\n",
       "      <th></th>\n",
       "      <th>Trip ID</th>\n",
       "      <th>Start Date</th>\n",
       "      <th>Start Station</th>\n",
       "      <th>End Date</th>\n",
       "      <th>End Station</th>\n",
       "      <th>Subscriber Type</th>\n",
       "      <th>duration</th>\n",
       "      <th>date_x</th>\n",
       "      <th>month</th>\n",
       "      <th>month_year</th>\n",
       "      <th>hour</th>\n",
       "      <th>weekday</th>\n",
       "      <th>year</th>\n",
       "      <th>day</th>\n",
       "      <th>date_y</th>\n",
       "      <th>Max TemperatureF</th>\n",
       "      <th>Mean TemperatureF</th>\n",
       "      <th>Min TemperatureF</th>\n",
       "      <th>Max Dew PointF</th>\n",
       "      <th>MeanDew PointF</th>\n",
       "      <th>Min DewpointF</th>\n",
       "      <th>Max Humidity</th>\n",
       "      <th>Mean Humidity</th>\n",
       "      <th>Min Humidity</th>\n",
       "      <th>Max Sea Level PressureIn</th>\n",
       "      <th>Mean Sea Level PressureIn</th>\n",
       "      <th>Min Sea Level PressureIn</th>\n",
       "      <th>Max VisibilityMiles</th>\n",
       "      <th>Mean VisibilityMiles</th>\n",
       "      <th>Min VisibilityMiles</th>\n",
       "      <th>Max Wind SpeedMPH</th>\n",
       "      <th>Mean Wind SpeedMPH</th>\n",
       "      <th>Max Gust SpeedMPH</th>\n",
       "      <th>PrecipitationIn</th>\n",
       "      <th>CloudCover</th>\n",
       "      <th>Events</th>\n",
       "      <th>WindDirDegrees</th>\n",
       "      <th>Zip</th>\n",
       "    </tr>\n",
       "  </thead>\n",
       "  <tbody>\n",
       "    <tr>\n",
       "      <th>0</th>\n",
       "      <td>881764</td>\n",
       "      <td>2015-08-08 23:32:00</td>\n",
       "      <td>77</td>\n",
       "      <td>2015-08-08 23:40:00</td>\n",
       "      <td>54</td>\n",
       "      <td>Subscriber</td>\n",
       "      <td>8.0</td>\n",
       "      <td>2015-08-08</td>\n",
       "      <td>8</td>\n",
       "      <td>2015-08</td>\n",
       "      <td>23</td>\n",
       "      <td>5</td>\n",
       "      <td>2015</td>\n",
       "      <td>8</td>\n",
       "      <td>2015-08-08</td>\n",
       "      <td>70.0</td>\n",
       "      <td>66.0</td>\n",
       "      <td>62.0</td>\n",
       "      <td>57.0</td>\n",
       "      <td>56.0</td>\n",
       "      <td>55.0</td>\n",
       "      <td>84.0</td>\n",
       "      <td>73.0</td>\n",
       "      <td>61.0</td>\n",
       "      <td>29.96</td>\n",
       "      <td>29.94</td>\n",
       "      <td>29.91</td>\n",
       "      <td>10.0</td>\n",
       "      <td>10.0</td>\n",
       "      <td>10.0</td>\n",
       "      <td>18.0</td>\n",
       "      <td>11.0</td>\n",
       "      <td>25.0</td>\n",
       "      <td>0.0</td>\n",
       "      <td>6.0</td>\n",
       "      <td>NaN</td>\n",
       "      <td>261.0</td>\n",
       "      <td>94107</td>\n",
       "    </tr>\n",
       "    <tr>\n",
       "      <th>1</th>\n",
       "      <td>881764</td>\n",
       "      <td>2015-08-08 23:32:00</td>\n",
       "      <td>77</td>\n",
       "      <td>2015-08-08 23:40:00</td>\n",
       "      <td>54</td>\n",
       "      <td>Subscriber</td>\n",
       "      <td>8.0</td>\n",
       "      <td>2015-08-08</td>\n",
       "      <td>8</td>\n",
       "      <td>2015-08</td>\n",
       "      <td>23</td>\n",
       "      <td>5</td>\n",
       "      <td>2015</td>\n",
       "      <td>8</td>\n",
       "      <td>2015-08-08</td>\n",
       "      <td>73.0</td>\n",
       "      <td>68.0</td>\n",
       "      <td>62.0</td>\n",
       "      <td>57.0</td>\n",
       "      <td>56.0</td>\n",
       "      <td>54.0</td>\n",
       "      <td>82.0</td>\n",
       "      <td>73.0</td>\n",
       "      <td>53.0</td>\n",
       "      <td>29.97</td>\n",
       "      <td>29.94</td>\n",
       "      <td>29.91</td>\n",
       "      <td>10.0</td>\n",
       "      <td>10.0</td>\n",
       "      <td>10.0</td>\n",
       "      <td>18.0</td>\n",
       "      <td>6.0</td>\n",
       "      <td>28.0</td>\n",
       "      <td>0.0</td>\n",
       "      <td>4.0</td>\n",
       "      <td>NaN</td>\n",
       "      <td>261.0</td>\n",
       "      <td>94063</td>\n",
       "    </tr>\n",
       "    <tr>\n",
       "      <th>2</th>\n",
       "      <td>881764</td>\n",
       "      <td>2015-08-08 23:32:00</td>\n",
       "      <td>77</td>\n",
       "      <td>2015-08-08 23:40:00</td>\n",
       "      <td>54</td>\n",
       "      <td>Subscriber</td>\n",
       "      <td>8.0</td>\n",
       "      <td>2015-08-08</td>\n",
       "      <td>8</td>\n",
       "      <td>2015-08</td>\n",
       "      <td>23</td>\n",
       "      <td>5</td>\n",
       "      <td>2015</td>\n",
       "      <td>8</td>\n",
       "      <td>2015-08-08</td>\n",
       "      <td>NaN</td>\n",
       "      <td>NaN</td>\n",
       "      <td>NaN</td>\n",
       "      <td>NaN</td>\n",
       "      <td>NaN</td>\n",
       "      <td>NaN</td>\n",
       "      <td>NaN</td>\n",
       "      <td>NaN</td>\n",
       "      <td>NaN</td>\n",
       "      <td>NaN</td>\n",
       "      <td>NaN</td>\n",
       "      <td>NaN</td>\n",
       "      <td>NaN</td>\n",
       "      <td>NaN</td>\n",
       "      <td>NaN</td>\n",
       "      <td>NaN</td>\n",
       "      <td>NaN</td>\n",
       "      <td>NaN</td>\n",
       "      <td>NaN</td>\n",
       "      <td>NaN</td>\n",
       "      <td>NaN</td>\n",
       "      <td>NaN</td>\n",
       "      <td>94301</td>\n",
       "    </tr>\n",
       "    <tr>\n",
       "      <th>3</th>\n",
       "      <td>881764</td>\n",
       "      <td>2015-08-08 23:32:00</td>\n",
       "      <td>77</td>\n",
       "      <td>2015-08-08 23:40:00</td>\n",
       "      <td>54</td>\n",
       "      <td>Subscriber</td>\n",
       "      <td>8.0</td>\n",
       "      <td>2015-08-08</td>\n",
       "      <td>8</td>\n",
       "      <td>2015-08</td>\n",
       "      <td>23</td>\n",
       "      <td>5</td>\n",
       "      <td>2015</td>\n",
       "      <td>8</td>\n",
       "      <td>2015-08-08</td>\n",
       "      <td>76.0</td>\n",
       "      <td>69.0</td>\n",
       "      <td>62.0</td>\n",
       "      <td>59.0</td>\n",
       "      <td>57.0</td>\n",
       "      <td>53.0</td>\n",
       "      <td>84.0</td>\n",
       "      <td>69.0</td>\n",
       "      <td>53.0</td>\n",
       "      <td>29.97</td>\n",
       "      <td>29.94</td>\n",
       "      <td>29.92</td>\n",
       "      <td>10.0</td>\n",
       "      <td>10.0</td>\n",
       "      <td>10.0</td>\n",
       "      <td>23.0</td>\n",
       "      <td>9.0</td>\n",
       "      <td>26.0</td>\n",
       "      <td>0.0</td>\n",
       "      <td>2.0</td>\n",
       "      <td>NaN</td>\n",
       "      <td>39.0</td>\n",
       "      <td>94041</td>\n",
       "    </tr>\n",
       "    <tr>\n",
       "      <th>4</th>\n",
       "      <td>881764</td>\n",
       "      <td>2015-08-08 23:32:00</td>\n",
       "      <td>77</td>\n",
       "      <td>2015-08-08 23:40:00</td>\n",
       "      <td>54</td>\n",
       "      <td>Subscriber</td>\n",
       "      <td>8.0</td>\n",
       "      <td>2015-08-08</td>\n",
       "      <td>8</td>\n",
       "      <td>2015-08</td>\n",
       "      <td>23</td>\n",
       "      <td>5</td>\n",
       "      <td>2015</td>\n",
       "      <td>8</td>\n",
       "      <td>2015-08-08</td>\n",
       "      <td>78.0</td>\n",
       "      <td>69.0</td>\n",
       "      <td>60.0</td>\n",
       "      <td>58.0</td>\n",
       "      <td>56.0</td>\n",
       "      <td>54.0</td>\n",
       "      <td>84.0</td>\n",
       "      <td>66.0</td>\n",
       "      <td>48.0</td>\n",
       "      <td>29.95</td>\n",
       "      <td>29.93</td>\n",
       "      <td>29.91</td>\n",
       "      <td>10.0</td>\n",
       "      <td>10.0</td>\n",
       "      <td>10.0</td>\n",
       "      <td>20.0</td>\n",
       "      <td>7.0</td>\n",
       "      <td>24.0</td>\n",
       "      <td>0.0</td>\n",
       "      <td>3.0</td>\n",
       "      <td>NaN</td>\n",
       "      <td>50.0</td>\n",
       "      <td>95113</td>\n",
       "    </tr>\n",
       "  </tbody>\n",
       "</table>\n",
       "</div>"
      ],
      "text/plain": [
       "   Trip ID          Start Date  Start Station            End Date  \\\n",
       "0   881764 2015-08-08 23:32:00             77 2015-08-08 23:40:00   \n",
       "1   881764 2015-08-08 23:32:00             77 2015-08-08 23:40:00   \n",
       "2   881764 2015-08-08 23:32:00             77 2015-08-08 23:40:00   \n",
       "3   881764 2015-08-08 23:32:00             77 2015-08-08 23:40:00   \n",
       "4   881764 2015-08-08 23:32:00             77 2015-08-08 23:40:00   \n",
       "\n",
       "   End Station Subscriber Type  duration      date_x  month month_year  hour  \\\n",
       "0           54      Subscriber       8.0  2015-08-08      8    2015-08    23   \n",
       "1           54      Subscriber       8.0  2015-08-08      8    2015-08    23   \n",
       "2           54      Subscriber       8.0  2015-08-08      8    2015-08    23   \n",
       "3           54      Subscriber       8.0  2015-08-08      8    2015-08    23   \n",
       "4           54      Subscriber       8.0  2015-08-08      8    2015-08    23   \n",
       "\n",
       "   weekday  year  day     date_y  Max TemperatureF  Mean TemperatureF  \\\n",
       "0        5  2015    8 2015-08-08              70.0               66.0   \n",
       "1        5  2015    8 2015-08-08              73.0               68.0   \n",
       "2        5  2015    8 2015-08-08               NaN                NaN   \n",
       "3        5  2015    8 2015-08-08              76.0               69.0   \n",
       "4        5  2015    8 2015-08-08              78.0               69.0   \n",
       "\n",
       "   Min TemperatureF  Max Dew PointF  MeanDew PointF  Min DewpointF  \\\n",
       "0              62.0            57.0            56.0           55.0   \n",
       "1              62.0            57.0            56.0           54.0   \n",
       "2               NaN             NaN             NaN            NaN   \n",
       "3              62.0            59.0            57.0           53.0   \n",
       "4              60.0            58.0            56.0           54.0   \n",
       "\n",
       "   Max Humidity  Mean Humidity  Min Humidity  Max Sea Level PressureIn  \\\n",
       "0          84.0           73.0          61.0                     29.96   \n",
       "1          82.0           73.0          53.0                     29.97   \n",
       "2           NaN            NaN           NaN                       NaN   \n",
       "3          84.0           69.0          53.0                     29.97   \n",
       "4          84.0           66.0          48.0                     29.95   \n",
       "\n",
       "   Mean Sea Level PressureIn  Min Sea Level PressureIn  Max VisibilityMiles  \\\n",
       "0                      29.94                     29.91                 10.0   \n",
       "1                      29.94                     29.91                 10.0   \n",
       "2                        NaN                       NaN                  NaN   \n",
       "3                      29.94                     29.92                 10.0   \n",
       "4                      29.93                     29.91                 10.0   \n",
       "\n",
       "   Mean VisibilityMiles  Min VisibilityMiles  Max Wind SpeedMPH  \\\n",
       "0                  10.0                 10.0               18.0   \n",
       "1                  10.0                 10.0               18.0   \n",
       "2                   NaN                  NaN                NaN   \n",
       "3                  10.0                 10.0               23.0   \n",
       "4                  10.0                 10.0               20.0   \n",
       "\n",
       "   Mean Wind SpeedMPH  Max Gust SpeedMPH  PrecipitationIn  CloudCover Events  \\\n",
       "0                11.0               25.0              0.0         6.0    NaN   \n",
       "1                 6.0               28.0              0.0         4.0    NaN   \n",
       "2                 NaN                NaN              NaN         NaN    NaN   \n",
       "3                 9.0               26.0              0.0         2.0    NaN   \n",
       "4                 7.0               24.0              0.0         3.0    NaN   \n",
       "\n",
       "   WindDirDegrees    Zip  \n",
       "0           261.0  94107  \n",
       "1           261.0  94063  \n",
       "2             NaN  94301  \n",
       "3            39.0  94041  \n",
       "4            50.0  95113  "
      ]
     },
     "execution_count": 172,
     "metadata": {},
     "output_type": "execute_result"
    }
   ],
   "source": [
    "final.head()"
   ]
  },
  {
   "cell_type": "code",
   "execution_count": 175,
   "metadata": {},
   "outputs": [],
   "source": [
    "# replace space in column names\n",
    "final.columns = final.columns.str.replace(\" \", \"_\")"
   ]
  },
  {
   "cell_type": "code",
   "execution_count": 184,
   "metadata": {},
   "outputs": [],
   "source": [
    "#drop unwanted columns\n",
    "cols_to_drop = ['Trip_ID', 'Start_Date', 'End_Date', 'Zip','date_x','date_y']\n",
    "final = final.drop(cols_to_drop, axis=1)"
   ]
  },
  {
   "cell_type": "code",
   "execution_count": 185,
   "metadata": {},
   "outputs": [],
   "source": [
    "# Convert categorical columns into one-hot encoding \n",
    "obj_cols = [\"Subscriber_Type\",]\n",
    "final = OneHotEncoder(final,obj_cols )"
   ]
  },
  {
   "cell_type": "markdown",
   "metadata": {},
   "source": [
    "###  Steps to continue to complete the modeling"
   ]
  },
  {
   "cell_type": "markdown",
   "metadata": {},
   "source": [
    "####  - Group data by hour,by station and count number of available bikes\n",
    "####  - Prepare the labels for the data set\n",
    "####  - Use model to predict number of bikes available in each station in each hour\n"
   ]
  },
  {
   "cell_type": "markdown",
   "metadata": {},
   "source": [
    "## Starting from here, can't be executed, onle steps mentioned "
   ]
  },
  {
   "cell_type": "code",
   "execution_count": null,
   "metadata": {},
   "outputs": [],
   "source": [
    "labels = final.trips_count"
   ]
  },
  {
   "cell_type": "markdown",
   "metadata": {},
   "source": [
    "### Train the model"
   ]
  },
  {
   "cell_type": "code",
   "execution_count": null,
   "metadata": {},
   "outputs": [],
   "source": [
    "# Split the data\n",
    "X_train, X_test, y_train, y_test = train_test_split(train, labels, test_size=0.25, random_state = 2)"
   ]
  },
  {
   "cell_type": "code",
   "execution_count": null,
   "metadata": {},
   "outputs": [],
   "source": [
    "rfr = RandomForestRegressor(n_estimators = 55,\n",
    "                            min_samples_leaf = 3,\n",
    "                            random_state = 2)\n",
    "scores = cross_val_score(clf, X_train, y_train, cv=15, n_jobs=1, scoring = 'neg_median_absolute_error')\n",
    "    print (np.median(scores) * -1)"
   ]
  },
  {
   "cell_type": "code",
   "execution_count": null,
   "metadata": {},
   "outputs": [],
   "source": [
    "gbr = GradientBoostingRegressor(learning_rate = 0.12,\n",
    "                                n_estimators = 150,\n",
    "                                max_depth = 8,\n",
    "                                min_samples_leaf = 1,\n",
    "                                random_state = 2)\n",
    "scores = cross_val_score(clf, X_train, y_train, cv=15, n_jobs=1, scoring = 'neg_median_absolute_error')\n",
    "    "
   ]
  },
  {
   "cell_type": "markdown",
   "metadata": {},
   "source": [
    "## Model Performance"
   ]
  },
  {
   "cell_type": "code",
   "execution_count": null,
   "metadata": {},
   "outputs": [],
   "source": [
    "print (np.median(scores) * -1)"
   ]
  },
  {
   "cell_type": "markdown",
   "metadata": {},
   "source": [
    "## Potential Imporvements"
   ]
  },
  {
   "cell_type": "markdown",
   "metadata": {},
   "source": [
    "Here are some of the imrovmeents that can be impemeneted in the future:\n",
    "\n",
    "- Impute null values\n",
    "- Join with Weather data to add more value to our model\n",
    "- Drop highly correlated independent variable\n",
    "- Handle Trip outliars : Need more investigation , some trips has more than 100 minutes duration\n",
    "- Extract holiday/business days features and add them to the model\n",
    "- Use spatial data in the analysis and we can overlay the nalysis on the map to have an eagle eye view of the trips\n",
    "- Link with city dempgraphics and census data to add more value to the analyis \n",
    "- Add tourists numbers and predictions to the data to help us in predicting more accurate numbers of the visitors\n",
    "\n"
   ]
  },
  {
   "cell_type": "markdown",
   "metadata": {},
   "source": [
    "## Conclusion"
   ]
  },
  {
   "cell_type": "markdown",
   "metadata": {},
   "source": [
    "- San Francisco City has the largest number of Bike Docks\n",
    "- The distrubtion is right skewed, most of the trips are between 1 miutes and 10-15 minutes \n",
    "- Subscriber Type \" Subscriber\" has the majority of the trips in the platform. Customers are mostly visitors to the city\n",
    "- Most of the \"Subscriber\" trips are done in the morning (between 6-9 AM) and (4-8 PM) . the normal commute hours \n",
    "- the \"Customer\" trips are steady between 6 AM and 8 PM, usually for visiting the city \n",
    "- Most of the trips are on the normal weekdays, and very less during weekends"
   ]
  }
 ],
 "metadata": {
  "kernelspec": {
   "display_name": "Python 3",
   "language": "python",
   "name": "python3"
  },
  "language_info": {
   "codemirror_mode": {
    "name": "ipython",
    "version": 3
   },
   "file_extension": ".py",
   "mimetype": "text/x-python",
   "name": "python",
   "nbconvert_exporter": "python",
   "pygments_lexer": "ipython3",
   "version": "3.7.0"
  }
 },
 "nbformat": 4,
 "nbformat_minor": 2
}
